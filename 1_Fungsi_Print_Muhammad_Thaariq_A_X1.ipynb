{
  "nbformat": 4,
  "nbformat_minor": 0,
  "metadata": {
    "colab": {
      "provenance": [],
      "authorship_tag": "ABX9TyMiWZHZpXo5X8okqk48h0JE",
      "include_colab_link": true
    },
    "kernelspec": {
      "name": "python3",
      "display_name": "Python 3"
    },
    "language_info": {
      "name": "python"
    }
  },
  "cells": [
    {
      "cell_type": "markdown",
      "metadata": {
        "id": "view-in-github",
        "colab_type": "text"
      },
      "source": [
        "<a href=\"https://colab.research.google.com/github/muhammadthaariq25/KKA-X-SEMESTER-1-M.-Thaariq/blob/main/1_Fungsi_Print_Muhammad_Thaariq_A_X1.ipynb\" target=\"_parent\"><img src=\"https://colab.research.google.com/assets/colab-badge.svg\" alt=\"Open In Colab\"/></a>"
      ]
    },
    {
      "cell_type": "markdown",
      "source": [
        "Nama : Muhammad Thaariq Abdullah\n",
        "\n",
        "Kelas: X-1\n",
        "\n",
        "Absen: 20"
      ],
      "metadata": {
        "id": "UK5HqlkP1s1o"
      }
    },
    {
      "cell_type": "markdown",
      "source": [
        "#Menampilkan Text Bebas"
      ],
      "metadata": {
        "id": "Kz4Lu1bp2R9V"
      }
    },
    {
      "cell_type": "code",
      "source": [
        "print(\"Muhammad Thaariq Abdullah\")"
      ],
      "metadata": {
        "colab": {
          "base_uri": "https://localhost:8080/"
        },
        "id": "Bej9y_E_6E83",
        "outputId": "dbe293a1-c585-4c28-e10c-b7a614ba2ec5"
      },
      "execution_count": 30,
      "outputs": [
        {
          "output_type": "stream",
          "name": "stdout",
          "text": [
            "Muhammad Thaariq Abdullah\n"
          ]
        }
      ]
    },
    {
      "cell_type": "markdown",
      "source": [
        "#Menampilkan Nilai Variable"
      ],
      "metadata": {
        "id": "DePmfCWC6Q8e"
      }
    },
    {
      "cell_type": "code",
      "source": [
        "nama_idola = \"Windah Batu Bara\"\n",
        "\n",
        "print(nama_idola)"
      ],
      "metadata": {
        "colab": {
          "base_uri": "https://localhost:8080/"
        },
        "id": "6YBClZQn6c8y",
        "outputId": "9e6ab160-a7e3-4c30-b41f-ef246d7cc62d"
      },
      "execution_count": 12,
      "outputs": [
        {
          "output_type": "stream",
          "name": "stdout",
          "text": [
            "Windah Batu Bara\n"
          ]
        }
      ]
    },
    {
      "cell_type": "code",
      "source": [
        "usia = 15\n",
        "\n",
        "print(usia)"
      ],
      "metadata": {
        "colab": {
          "base_uri": "https://localhost:8080/"
        },
        "id": "Wzo9UehJ6-UY",
        "outputId": "eb09d469-6794-42b1-e73e-dc7528c41df5"
      },
      "execution_count": 10,
      "outputs": [
        {
          "output_type": "stream",
          "name": "stdout",
          "text": [
            "15\n"
          ]
        }
      ]
    },
    {
      "cell_type": "markdown",
      "source": [
        "#Latihan Soal"
      ],
      "metadata": {
        "id": "ZBYCmciJ7NdX"
      }
    },
    {
      "cell_type": "code",
      "execution_count": 5,
      "metadata": {
        "id": "FW9ea9jVzq0O",
        "colab": {
          "base_uri": "https://localhost:8080/"
        },
        "outputId": "a8ab9524-8df4-4867-c437-f0bcc4394756"
      },
      "outputs": [
        {
          "output_type": "stream",
          "name": "stdout",
          "text": [
            "Prabowo\n"
          ]
        }
      ],
      "source": [
        "nama_saudara = \"Prabowo\"\n",
        "\n",
        "print(nama_saudara)"
      ]
    },
    {
      "cell_type": "code",
      "source": [
        "jumlah_saudara = 2\n",
        "\n",
        "print(jumlah_saudara)"
      ],
      "metadata": {
        "colab": {
          "base_uri": "https://localhost:8080/"
        },
        "id": "vxIf9T_35voK",
        "outputId": "795ec76b-1cfe-4dc8-d140-43f291f46664"
      },
      "execution_count": 29,
      "outputs": [
        {
          "output_type": "stream",
          "name": "stdout",
          "text": [
            "2\n"
          ]
        }
      ]
    },
    {
      "cell_type": "markdown",
      "source": [
        "#Menampilkan Nilai Variable dan string"
      ],
      "metadata": {
        "id": "HueiD6gj2ZKi"
      }
    },
    {
      "cell_type": "code",
      "source": [
        "print(\"Nama idola saya adalah\",nama_idola,\". Usianya adalah\",usia,\"tahun.\")"
      ],
      "metadata": {
        "colab": {
          "base_uri": "https://localhost:8080/"
        },
        "id": "-cet-qYs2hD6",
        "outputId": "9df115bc-6989-4ee6-fa0a-6ad64d6491aa"
      },
      "execution_count": 14,
      "outputs": [
        {
          "output_type": "stream",
          "name": "stdout",
          "text": [
            "Nama idola saya adalah Windah Batu Bara . Usianya adalah 15 tahun.\n"
          ]
        }
      ]
    },
    {
      "cell_type": "code",
      "source": [
        "print(\"Nama idola saya adalah \"+nama_idola+\". Usianya adalah \"+str(usia)+ \"tahun.\")"
      ],
      "metadata": {
        "colab": {
          "base_uri": "https://localhost:8080/"
        },
        "id": "4I9n58lr3cZA",
        "outputId": "81b057a9-6638-4ce8-b9c3-f732b1eaac62"
      },
      "execution_count": 15,
      "outputs": [
        {
          "output_type": "stream",
          "name": "stdout",
          "text": [
            "Nama idola saya adalah Windah Batu Bara. Usianya adalah 15tahun.\n"
          ]
        }
      ]
    },
    {
      "cell_type": "code",
      "source": [
        "print(f\"Nama idola saya adalah {nama_idola}. Usianya adalah {usia} tahun.\")"
      ],
      "metadata": {
        "colab": {
          "base_uri": "https://localhost:8080/"
        },
        "id": "dfPy0-xh3yqg",
        "outputId": "2bfdd851-a0b6-457c-a3d9-fb3a930a9d40"
      },
      "execution_count": 13,
      "outputs": [
        {
          "output_type": "stream",
          "name": "stdout",
          "text": [
            "Nama idola saya adalah Windah Batu Bara. Usianya adalah 15 tahun.\n"
          ]
        }
      ]
    },
    {
      "cell_type": "markdown",
      "source": [
        "#Escape String"
      ],
      "metadata": {
        "id": "6QU868hR9dgE"
      }
    },
    {
      "cell_type": "code",
      "source": [
        "print(\"Nama:Thaariq\")\n",
        "print(\"kelas:X.1\")\n",
        "print(\"No. Absen:20\")"
      ],
      "metadata": {
        "colab": {
          "base_uri": "https://localhost:8080/"
        },
        "id": "AxwqzRao9iIz",
        "outputId": "b6ef4082-fceb-490d-9b41-816b54a1b59f"
      },
      "execution_count": 28,
      "outputs": [
        {
          "output_type": "stream",
          "name": "stdout",
          "text": [
            "Nama:Thaariq\n",
            "kelas:X.1\n",
            "No. Absen:20\n"
          ]
        }
      ]
    },
    {
      "cell_type": "code",
      "source": [
        "print(\"Nama: Thaariq\\nkelas:X.1\\nNo. Absen:20\")"
      ],
      "metadata": {
        "colab": {
          "base_uri": "https://localhost:8080/"
        },
        "id": "XMm8zdxm91H5",
        "outputId": "7c7bcba1-16e4-41f5-e76d-936cdf729289"
      },
      "execution_count": 27,
      "outputs": [
        {
          "output_type": "stream",
          "name": "stdout",
          "text": [
            "Nama: Thaariq\n",
            "kelas:X.1\n",
            "No. Absen:20\n"
          ]
        }
      ]
    },
    {
      "cell_type": "code",
      "source": [
        "print(\"\"\"Nama\\t\\t: Thaariq\n",
        "Kelas\\t\\t: X.1\n",
        "No. Absen\\t: 21\"\"\")"
      ],
      "metadata": {
        "colab": {
          "base_uri": "https://localhost:8080/"
        },
        "id": "jWc78eGT-MsU",
        "outputId": "93b774ec-8609-4a89-8791-e23ad1a9cdd8"
      },
      "execution_count": 26,
      "outputs": [
        {
          "output_type": "stream",
          "name": "stdout",
          "text": [
            "Nama\t\t: Thaariq\n",
            "Kelas\t\t: X.1\n",
            "No. Absen\t: 21\n"
          ]
        }
      ]
    },
    {
      "cell_type": "code",
      "source": [
        "print(\"Halo nama saya Habib\")"
      ],
      "metadata": {
        "colab": {
          "base_uri": "https://localhost:8080/"
        },
        "id": "ijeuaj6yhnyq",
        "outputId": "0f83a71c-ee13-4529-8bff-1b1e0eb5b890"
      },
      "execution_count": 25,
      "outputs": [
        {
          "output_type": "stream",
          "name": "stdout",
          "text": [
            "Halo nama saya Habib\n"
          ]
        }
      ]
    },
    {
      "cell_type": "code",
      "source": [
        "print ('Halo nama saya Habib')"
      ],
      "metadata": {
        "colab": {
          "base_uri": "https://localhost:8080/"
        },
        "id": "7qemJAstiA9g",
        "outputId": "5474d569-a281-4b95-bca8-1f87f5bac14f"
      },
      "execution_count": 24,
      "outputs": [
        {
          "output_type": "stream",
          "name": "stdout",
          "text": [
            "Halo nama saya Habib\n"
          ]
        }
      ]
    },
    {
      "cell_type": "code",
      "source": [
        "print(\"Halo nama saya habib Ja'far\")"
      ],
      "metadata": {
        "colab": {
          "base_uri": "https://localhost:8080/"
        },
        "id": "IfeVd0WtiIcX",
        "outputId": "930478d8-3b40-4e2a-b936-4a457d1dfa17"
      },
      "execution_count": 23,
      "outputs": [
        {
          "output_type": "stream",
          "name": "stdout",
          "text": [
            "Halo nama saya habib Ja'far\n"
          ]
        }
      ]
    },
    {
      "cell_type": "code",
      "source": [
        "print(\"Bu shinta berkata, \\\"tolong fokus ke TV sejenak.\\\"\")"
      ],
      "metadata": {
        "colab": {
          "base_uri": "https://localhost:8080/"
        },
        "id": "6NgtbxxMiX7d",
        "outputId": "857bb762-0095-49be-b887-70dd531da06b"
      },
      "execution_count": 22,
      "outputs": [
        {
          "output_type": "stream",
          "name": "stdout",
          "text": [
            "Bu shinta berkata, \"tolong fokus ke TV sejenak.\"\n"
          ]
        }
      ]
    },
    {
      "cell_type": "code",
      "source": [
        "print('Bu shinta berkata, \"tolong fokus ke TV sejenak.\"')"
      ],
      "metadata": {
        "colab": {
          "base_uri": "https://localhost:8080/"
        },
        "id": "ugf1mEh2i4Up",
        "outputId": "c96ed5e6-4249-4f25-9a8a-0175357a34c1"
      },
      "execution_count": 21,
      "outputs": [
        {
          "output_type": "stream",
          "name": "stdout",
          "text": [
            "Bu shinta berkata, \"tolong fokus ke TV sejenak.\"\n"
          ]
        }
      ]
    },
    {
      "cell_type": "code",
      "source": [
        "print(\"Silahkan simpan tugas Kka di folder local disk D:\\\\Man Demak\\\\kka\\\\tugas\")"
      ],
      "metadata": {
        "colab": {
          "base_uri": "https://localhost:8080/"
        },
        "id": "MIOgqiVdjFiD",
        "outputId": "3c6ccb3d-ce67-4760-a34b-8f3960073f7e"
      },
      "execution_count": 20,
      "outputs": [
        {
          "output_type": "stream",
          "name": "stdout",
          "text": [
            "Silahkan simpan tugas Kka di folder local disk D:\\Man Demak\\kka\\tugas\n"
          ]
        }
      ]
    },
    {
      "cell_type": "markdown",
      "source": [
        "#Latihan Soal"
      ],
      "metadata": {
        "id": "04akxCP8jtb4"
      }
    },
    {
      "cell_type": "code",
      "source": [
        "print('Bu shinta berkata, \"Berikut adalah daftar piket harian kelas x.2 yang disimpan di file D:\\\\Man demak\\\\jadwal piket.\"\\n')\n",
        "print(\"Senin\\tselasa\\tRabu\\nJielo\\tHasbi\\tnaufal\\nAzam\\tA'inun\\tNurul\")"
      ],
      "metadata": {
        "colab": {
          "base_uri": "https://localhost:8080/"
        },
        "id": "b_nUdmEJj5C1",
        "outputId": "57229ea2-5dec-4f37-b5ee-197a8d8cba33"
      },
      "execution_count": 16,
      "outputs": [
        {
          "output_type": "stream",
          "name": "stdout",
          "text": [
            "Bu shinta berkata, \"Berikut adalah daftar piket harian kelas x.2 yang disimpan di file D:\\Man demak\\jadwal piket.\"\n",
            "\n",
            "Senin\tselasa\tRabu\n",
            "Jielo\tHasbi\tnaufal\n",
            "Azam\tA'inun\tNurul\n"
          ]
        }
      ]
    },
    {
      "cell_type": "markdown",
      "source": [
        "#Parameter Fungsi Print"
      ],
      "metadata": {
        "id": "laqxG1X0o-wN"
      }
    },
    {
      "cell_type": "code",
      "source": [
        "nama_siswa_1 = \"Dias\"\n",
        "nama_siswa_2 = \"Disa\"\n",
        "nama_siswa_3 = \"Tyas\"\n",
        "\n",
        "print(nama_siswa_1, end=\" \")\n",
        "print(nama_siswa_2)"
      ],
      "metadata": {
        "colab": {
          "base_uri": "https://localhost:8080/"
        },
        "id": "Y9Cy7SImpHdI",
        "outputId": "c62841a1-aae4-46d7-94e2-9d5061036612"
      },
      "execution_count": null,
      "outputs": [
        {
          "output_type": "stream",
          "name": "stdout",
          "text": [
            "Dias Disa\n"
          ]
        }
      ]
    },
    {
      "cell_type": "code",
      "source": [
        "print(nama_siswa_1, nama_siswa_2)"
      ],
      "metadata": {
        "colab": {
          "base_uri": "https://localhost:8080/"
        },
        "id": "m4dUjJKVqAlq",
        "outputId": "1c6ab41a-26ed-42ff-c0b6-83c9efdafb21"
      },
      "execution_count": 17,
      "outputs": [
        {
          "output_type": "stream",
          "name": "stdout",
          "text": [
            "Dias Disa\n"
          ]
        }
      ]
    },
    {
      "cell_type": "code",
      "source": [
        "print(nama_siswa_1, nama_siswa_2, sep=\"-\")"
      ],
      "metadata": {
        "colab": {
          "base_uri": "https://localhost:8080/"
        },
        "id": "hk_qlpR6qLsD",
        "outputId": "355a050d-2118-4dda-88f2-19264e795921"
      },
      "execution_count": 18,
      "outputs": [
        {
          "output_type": "stream",
          "name": "stdout",
          "text": [
            "Dias-Disa\n"
          ]
        }
      ]
    },
    {
      "cell_type": "markdown",
      "source": [
        "#Latihan Soal"
      ],
      "metadata": {
        "id": "qzS70GEiqXuo"
      }
    },
    {
      "cell_type": "code",
      "source": [
        "nama_siswa_3 = \"Kinan\"\n",
        "nama_siswa_4 = \"Azka\"\n",
        "nama_siswa_5 = \"Naufal\"\n",
        "nama_siswa_6 = \"Ridho\""
      ],
      "metadata": {
        "id": "l-aMFrHDqaUb"
      },
      "execution_count": null,
      "outputs": []
    },
    {
      "cell_type": "code",
      "source": [
        "print(nama_siswa_6, nama_siswa_3, nama_siswa_5, nama_siswa_4, nama_siswa_4, sep=\"/\")"
      ],
      "metadata": {
        "colab": {
          "base_uri": "https://localhost:8080/"
        },
        "id": "Gkxyl-BzrDHS",
        "outputId": "2d199bbb-ad3c-41ed-adf2-8932a5d90dd9"
      },
      "execution_count": 19,
      "outputs": [
        {
          "output_type": "stream",
          "name": "stdout",
          "text": [
            "Ridho/Tyas/Naufal/Azka/Azka\n"
          ]
        }
      ]
    },
    {
      "cell_type": "code",
      "source": [
        "print(nama_siswa_4, end=\"*\")\n",
        "print(nama_siswa_4, end=\"*\")\n",
        "print(nama_siswa_5, end=\"*\")\n",
        "print(nama_siswa_3, end=\"*\")\n",
        "print(nama_siswa_6)"
      ],
      "metadata": {
        "colab": {
          "base_uri": "https://localhost:8080/"
        },
        "id": "S8hQEHQCr6W2",
        "outputId": "30453d8e-b94f-4ecc-ca56-62770f8c5e60"
      },
      "execution_count": null,
      "outputs": [
        {
          "output_type": "stream",
          "name": "stdout",
          "text": [
            "Azka*Azka*Naufal*Kinan*Ridho\n"
          ]
        }
      ]
    }
  ]
}